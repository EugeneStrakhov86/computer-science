{
 "cells": [
  {
   "cell_type": "markdown",
   "metadata": {},
   "source": [
    "# Образец оформления решения задачи в домашней лабораторной работе\n",
    "\n",
    "## Intro to Python Programming, ONU, Fall 2018 &ndash; Spring 2019"
   ]
  },
  {
   "cell_type": "markdown",
   "metadata": {},
   "source": [
    "Даны координаты точек $A$, $B$, $C$ на плоскости. Верно ли, что точка $C$ принадлежит отрезку $AB$?"
   ]
  },
  {
   "cell_type": "code",
   "execution_count": null,
   "metadata": {},
   "outputs": [],
   "source": [
    "# Ввод координат точек\n",
    "xa = float(input('xa = '))\n",
    "ya = float(input('ya = '))\n",
    "xb = float(input('xb = '))\n",
    "yb = float(input('yb = '))\n",
    "xc = float(input('xc = '))\n",
    "yc = float(input('yc = '))\n",
    "\n",
    "# Идея решения: точка С принадлежит отрезку AB тогда и только тогда, когда AC+CB=AB. \n",
    "# В противном случае будет выполняться неравенство треугольника.\n",
    "\n",
    "# Вычисление длин отрезков\n",
    "import math\n",
    "AC = math.sqrt((xa-xc)**2 + (ya-yc)**2)\n",
    "CB = math.sqrt((xc-xb)**2 + (yc-yb)**2)\n",
    "AB = math.sqrt((xa-xb)**2 + (ya-yb)**2)\n",
    "\n",
    "# Проверка условия\n",
    "if AC + CB == AB:\n",
    "    print('Yes')\n",
    "else:\n",
    "    print('No')"
   ]
  }
 ],
 "metadata": {
  "kernelspec": {
   "display_name": "Python [default]",
   "language": "python",
   "name": "python3"
  },
  "language_info": {
   "codemirror_mode": {
    "name": "ipython",
    "version": 3
   },
   "file_extension": ".py",
   "mimetype": "text/x-python",
   "name": "python",
   "nbconvert_exporter": "python",
   "pygments_lexer": "ipython3",
   "version": "3.5.5"
  }
 },
 "nbformat": 4,
 "nbformat_minor": 2
}
